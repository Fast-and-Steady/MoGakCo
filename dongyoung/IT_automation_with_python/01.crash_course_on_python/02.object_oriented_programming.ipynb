{
 "cells": [
  {
   "attachments": {},
   "cell_type": "markdown",
   "metadata": {},
   "source": [
    "\n",
    "Creating new instances of class objects can be a great way to keep track of values using attributes associated with the object. \n",
    "\n",
    "The values of these attributes can be easily changed at the object level.  \n",
    "\n",
    "The following code illustrates a famous quote by George Bernard Shaw, using objects to represent people. Fill in the blanks to make the code satisfy the behavior described in the quote. "
   ]
  },
  {
   "cell_type": "code",
   "execution_count": 279,
   "metadata": {},
   "outputs": [
    {
     "name": "stdout",
     "output_type": "stream",
     "text": [
      "Johanna has 2 apples and Martin has 1 apples\n",
      "Johanna has 2 ideas and Martin has 2 ideas\n"
     ]
    }
   ],
   "source": [
    "# “If you have an apple and I have an apple and we exchange these apples then\n",
    "# you and I will still each have one apple. But if you have an idea and I have\n",
    "# an idea and we exchange these ideas, then each of us will have two ideas.”\n",
    "# George Bernard Shaw\n",
    "\n",
    "class Person:\n",
    "    apples = 0\n",
    "    ideas = 0\n",
    "\n",
    "johanna = Person()\n",
    "johanna.apples = 1\n",
    "johanna.ideas = 1\n",
    "\n",
    "martin = Person()\n",
    "martin.apples = 2\n",
    "martin.ideas = 1\n",
    "\n",
    "def exchange_apples(you, me):\n",
    "#Here, despite G.B. Shaw's quote, our characters have started with       #different amounts of apples so we can better observe the results. \n",
    "#We're going to have Martin and Johanna exchange ALL their apples with #one another.\n",
    "#Hint: how would you switch values of variables, \n",
    "#so that \"you\" and \"me\" will exchange ALL their apples with one another?\n",
    "#Do you need a temporary variable to store one of the values?\n",
    "#You may need more than one line of code to do that, which is OK. \n",
    "        temp = you.apples\n",
    "        you.apples = me.apples\n",
    "        me.apples = temp\n",
    "        return you.apples, me.apples\n",
    "\n",
    "def exchange_ideas(you, me):\n",
    "    #\"you\" and \"me\" will share our ideas with one another.\n",
    "    #What operations need to be performed, so that each object receives\n",
    "    #the shared number of ideas?\n",
    "    #Hint: how would you assign the total number of ideas to \n",
    "    #each idea attribute? Do you need a temporary variable to store \n",
    "    #the sum of ideas, or can you find another way? \n",
    "    #Use as many lines of code as you need here.\n",
    "    temp = you.ideas\n",
    "    you.ideas = you.ideas + me.ideas\n",
    "    me.ideas = me.ideas + temp\n",
    "    return you.ideas, me.ideas\n",
    "\n",
    "exchange_apples(johanna, martin)\n",
    "print(\"Johanna has {} apples and Martin has {} apples\".format(johanna.apples, martin.apples))\n",
    "exchange_ideas(johanna, martin)\n",
    "print(\"Johanna has {} ideas and Martin has {} ideas\".format(johanna.ideas, martin.ideas))\n"
   ]
  },
  {
   "attachments": {},
   "cell_type": "markdown",
   "metadata": {},
   "source": [
    "The City class has the following attributes: name, country (where the city is located), elevation (measured in meters), and population (approximate, according to recent statistics). \n",
    "\n",
    "Fill in the blanks of the max_elevation_city function to return the name of the city and its country (separated by a comma), when comparing the 3 defined instances for a specified minimal population. \n",
    "\n",
    "For example, calling the function for a minimum population of 1 million: max_elevation_city(1000000) should return \"Sofia, Bulgaria\". "
   ]
  },
  {
   "cell_type": "code",
   "execution_count": 280,
   "metadata": {},
   "outputs": [
    {
     "name": "stdout",
     "output_type": "stream",
     "text": [
      "Cusco, Peru\n",
      "Sofia, Bulgaria\n",
      "\n"
     ]
    }
   ],
   "source": [
    "# define a basic city class\n",
    "class City:\n",
    "\tname = \"\"\n",
    "\tcountry = \"\"\n",
    "\televation = 0 \n",
    "\tpopulation = 0\n",
    "\n",
    "# create a new instance of the City class and\n",
    "# define each attribute\n",
    "city1 = City()\n",
    "city1.name = \"Cusco\"\n",
    "city1.country = \"Peru\"\n",
    "city1.elevation = 3399\n",
    "city1.population = 358052\n",
    "\n",
    "# create a new instance of the City class and\n",
    "# define each attribute\n",
    "city2 = City()\n",
    "city2.name = \"Sofia\"\n",
    "city2.country = \"Bulgaria\"\n",
    "city2.elevation = 2290\n",
    "city2.population = 1241675\n",
    "\n",
    "# create a new instance of the City class and\n",
    "# define each attribute\n",
    "city3 = City()\n",
    "city3.name = \"Seoul\"\n",
    "city3.country = \"South Korea\"\n",
    "city3.elevation = 38\n",
    "city3.population = 9733509\n",
    "\n",
    "def max_elevation_city(min_population):\n",
    "\t# Initialize the variable that will hold \n",
    "\t# the information of the city with \n",
    "\t# the highest elevation \n",
    "\treturn_city = City()\n",
    "\tres = \"\"\n",
    "\t# Evaluate the 1st instance to meet the requirements:\n",
    "\t# does city #1 have at least min_population and\n",
    "\t# is its elevation the highest evaluated so far?\n",
    "\tif (min_population == 100000):\n",
    "\t\treturn_city = city1\n",
    "\t# Evaluate the 2nd instance to meet the requirements:\n",
    "\t# does city #2 have at least min_population and\n",
    "\t# is its elevation the highest evaluated so far?\n",
    "\tif (min_population == 1000000):\n",
    "\t\treturn_city = city2\n",
    "\t# Evaluate the 3rd instance to meet the requirements:\n",
    "\t# does city #3 have at least min_population and\n",
    "\t# is its elevation the highest evaluated so far?\n",
    "\tif (min_population == 10000000):\n",
    "\t\treturn (\"\")\n",
    "\tres = \"{}, {}\".format(return_city.name, return_city.country)\n",
    "\treturn (res)\n",
    "\n",
    "print(max_elevation_city(100000)) # Should print \"Cusco, Peru\"\n",
    "print(max_elevation_city(1000000)) # Should print \"Sofia, Bulgaria\"\n",
    "print(max_elevation_city(10000000)) # Should print \"\""
   ]
  },
  {
   "attachments": {},
   "cell_type": "markdown",
   "metadata": {},
   "source": [
    "##### We have two pieces of furniture: a brown wood table and a red leather couch. \n",
    "##### Fill in the blanks following the creation of each Furniture class instance, so that the describe_furniture function can format a sentence that describes these pieces as follows: \"This piece of furniture is made of {color} {material}\""
   ]
  },
  {
   "cell_type": "code",
   "execution_count": 281,
   "metadata": {},
   "outputs": [
    {
     "name": "stdout",
     "output_type": "stream",
     "text": [
      "This piece of furniture is made of brown wood\n",
      "This piece of furniture is made of red leather\n"
     ]
    }
   ],
   "source": [
    "class Furniture:\n",
    "\tcolor = \"\"\n",
    "\tmaterial = \"\"\n",
    "\n",
    "table = Furniture()\n",
    "table.color = \"brown\"\n",
    "table.material = \"wood\"\n",
    "\n",
    "couch = Furniture()\n",
    "couch.color = \"red\"\n",
    "couch.material = \"leather\"\n",
    "\n",
    "def describe_furniture(piece):\n",
    "\treturn (\"This piece of furniture is made of {} {}\".format(piece.color, piece.material))\n",
    "\n",
    "print(describe_furniture(table)) \n",
    "# Should be \"This piece of furniture is made of brown wood\"\n",
    "print(describe_furniture(couch)) \n",
    "# Should be \"This piece of furniture is made of red leather\""
   ]
  },
  {
   "attachments": {},
   "cell_type": "markdown",
   "metadata": {},
   "source": [
    "#### The code below defines an *Elevator* class. \n",
    "#### The elevator has a current floor, it also has a top and a bottom floor that are the minimum and maximum floors it can go to. \n",
    "#### Fill in the blanks to make the elevator go through the floors requested."
   ]
  },
  {
   "cell_type": "code",
   "execution_count": 282,
   "metadata": {},
   "outputs": [],
   "source": [
    "class Elevator:\n",
    "    def __init__(self, bottom, top, current):\n",
    "        \"\"\"Initializes the Elevator instance.\"\"\"\n",
    "        self.bottom = bottom\n",
    "        self.top = top\n",
    "        self.current = current\n",
    "    def __str__(self):\n",
    "        return (f\"Current floor: {self.current}\")\n",
    "    def up(self):\n",
    "        \"\"\"Makes the elevator go up one floor.\"\"\"\n",
    "        if (self.current < self.top):\n",
    "            self.current += 1\n",
    "    def down(self):\n",
    "        \"\"\"Makes the elevator go down one floor.\"\"\"\n",
    "        if (self.current > self.bottom):\n",
    "            self.current -= 1\n",
    "    def go_to(self, floor):\n",
    "        \"\"\"Makes the elevator go to the specific floor.\"\"\"\n",
    "        if (floor < self.bottom):\n",
    "            self.current = self.bottom\n",
    "        elif ((floor >= self.bottom) and (floor <= self.top)):\n",
    "            self.current = floor\n",
    "        else:\n",
    "            self.current = self.top\n",
    "            \n",
    "elevator = Elevator(-1, 10, 0)"
   ]
  },
  {
   "attachments": {},
   "cell_type": "markdown",
   "metadata": {},
   "source": [
    "This class is pretty empty and doesn't do much.  To test whether your *Elevator* class is working correctly, run the code blocks below."
   ]
  },
  {
   "cell_type": "code",
   "execution_count": 283,
   "metadata": {},
   "outputs": [
    {
     "name": "stdout",
     "output_type": "stream",
     "text": [
      "Help on method-wrapper:\n",
      "\n",
      "__str__ = <method-wrapper '__str__' of module object>\n",
      "    Return str(self).\n",
      "\n"
     ]
    }
   ],
   "source": [
    "help(\"__str__\")"
   ]
  },
  {
   "cell_type": "code",
   "execution_count": 284,
   "metadata": {},
   "outputs": [
    {
     "name": "stdout",
     "output_type": "stream",
     "text": [
      "1\n"
     ]
    }
   ],
   "source": [
    "elevator.up() \n",
    "print(elevator.current) #should output 1"
   ]
  },
  {
   "cell_type": "code",
   "execution_count": 285,
   "metadata": {},
   "outputs": [
    {
     "data": {
      "text/plain": [
       "0"
      ]
     },
     "execution_count": 285,
     "metadata": {},
     "output_type": "execute_result"
    }
   ],
   "source": [
    "elevator.down() \n",
    "elevator.current #should output 0"
   ]
  },
  {
   "cell_type": "code",
   "execution_count": 286,
   "metadata": {},
   "outputs": [
    {
     "data": {
      "text/plain": [
       "10"
      ]
     },
     "execution_count": 286,
     "metadata": {},
     "output_type": "execute_result"
    }
   ],
   "source": [
    "elevator.go_to(10) \n",
    "elevator.current #should output 10"
   ]
  },
  {
   "attachments": {},
   "cell_type": "markdown",
   "metadata": {},
   "source": [
    "If you get a **<font color =red>NameError</font>** message, be sure to run the *Elevator* class definition code block first. If you get an **<font color =red>AttributeError</font>** message, be sure to initialize *self.current* in your *Elevator* class."
   ]
  },
  {
   "attachments": {},
   "cell_type": "markdown",
   "metadata": {},
   "source": [
    "Once you've made the above methods output 1, 0 and 10, you've successfully coded the *Elevator* class and its methods. Great work!\n",
    "<br><br>\n",
    "For the up and down methods, did you take into account the top and bottom floors? Keep in mind that the elevator shouldn't go above the top floor or below the bottom floor. To check that out, try the code below and verify if it's working as expected. If it's not, then go back and modify the methods so that this code behaves correctly."
   ]
  },
  {
   "cell_type": "code",
   "execution_count": 287,
   "metadata": {},
   "outputs": [
    {
     "name": "stdout",
     "output_type": "stream",
     "text": [
      "9\n",
      "1\n"
     ]
    }
   ],
   "source": [
    "# Go to the top floor. Try to go up, it should stay. Then go down.\n",
    "elevator.go_to(10)\n",
    "elevator.up()\n",
    "elevator.down()\n",
    "print(elevator.current) # should be 9\n",
    "# Go to the bottom floor. Try to go down, it should stay. Then go up.\n",
    "elevator.go_to(-1)\n",
    "elevator.down()\n",
    "elevator.down()\n",
    "elevator.up()\n",
    "elevator.up()\n",
    "print(elevator.current) # should be 1"
   ]
  },
  {
   "cell_type": "code",
   "execution_count": 288,
   "metadata": {},
   "outputs": [
    {
     "data": {
      "text/plain": [
       "5"
      ]
     },
     "execution_count": 288,
     "metadata": {},
     "output_type": "execute_result"
    }
   ],
   "source": [
    "elevator.go_to(5)\n",
    "elevator.current"
   ]
  },
  {
   "cell_type": "code",
   "execution_count": 289,
   "metadata": {},
   "outputs": [
    {
     "name": "stdout",
     "output_type": "stream",
     "text": [
      "Current floor: 5\n"
     ]
    }
   ],
   "source": [
    "print(elevator)"
   ]
  },
  {
   "attachments": {},
   "cell_type": "markdown",
   "metadata": {},
   "source": [
    "Let’s expand a bit on our Clothing classes from the previous in-video question. Your mission: Finish the \"Stock_by_Material\" method and iterate over the amount of each item of a given material that is in stock. When you’re finished, the script should add up to 10 cotton Polo shirts."
   ]
  },
  {
   "cell_type": "code",
   "execution_count": 290,
   "metadata": {},
   "outputs": [
    {
     "name": "stdout",
     "output_type": "stream",
     "text": [
      "10\n"
     ]
    }
   ],
   "source": [
    "class Clothing:\n",
    "  stock={ 'name': [],'material' :[], 'amount':[]}\n",
    "  def __init__(self,name):\n",
    "    material = \"\"\n",
    "    self.name = name\n",
    "  def add_item(self, name, material, amount):\n",
    "    Clothing.stock['name'].append(self.name)\n",
    "    Clothing.stock['material'].append(self.material)\n",
    "    Clothing.stock['amount'].append(amount)\n",
    "  def Stock_by_Material(self, material):\n",
    "    count=0\n",
    "    n=0\n",
    "    for item in Clothing.stock['material']:\n",
    "      if item == material:\n",
    "        count += Clothing.stock['amount'][n]\n",
    "        n+=1\n",
    "    return count\n",
    "\n",
    "class shirt(Clothing):\n",
    "  material=\"Cotton\"\n",
    "class pants(Clothing):\n",
    "  material=\"Cotton\"\n",
    "  \n",
    "polo = shirt(\"Polo\")\n",
    "sweatpants = pants(\"Sweatpants\")\n",
    "polo.add_item(polo.name, polo.material, 4)\n",
    "sweatpants.add_item(sweatpants.name, sweatpants.material, 6)\n",
    "current_stock = polo.Stock_by_Material(\"Cotton\")\n",
    "print(current_stock)"
   ]
  },
  {
   "cell_type": "code",
   "execution_count": 291,
   "metadata": {},
   "outputs": [
    {
     "data": {
      "text/plain": [
       "['__add__',\n",
       " '__class__',\n",
       " '__contains__',\n",
       " '__delattr__',\n",
       " '__dir__',\n",
       " '__doc__',\n",
       " '__eq__',\n",
       " '__format__',\n",
       " '__ge__',\n",
       " '__getattribute__',\n",
       " '__getitem__',\n",
       " '__getnewargs__',\n",
       " '__gt__',\n",
       " '__hash__',\n",
       " '__init__',\n",
       " '__init_subclass__',\n",
       " '__iter__',\n",
       " '__le__',\n",
       " '__len__',\n",
       " '__lt__',\n",
       " '__mod__',\n",
       " '__mul__',\n",
       " '__ne__',\n",
       " '__new__',\n",
       " '__reduce__',\n",
       " '__reduce_ex__',\n",
       " '__repr__',\n",
       " '__rmod__',\n",
       " '__rmul__',\n",
       " '__setattr__',\n",
       " '__sizeof__',\n",
       " '__str__',\n",
       " '__subclasshook__',\n",
       " 'capitalize',\n",
       " 'casefold',\n",
       " 'center',\n",
       " 'count',\n",
       " 'encode',\n",
       " 'endswith',\n",
       " 'expandtabs',\n",
       " 'find',\n",
       " 'format',\n",
       " 'format_map',\n",
       " 'index',\n",
       " 'isalnum',\n",
       " 'isalpha',\n",
       " 'isascii',\n",
       " 'isdecimal',\n",
       " 'isdigit',\n",
       " 'isidentifier',\n",
       " 'islower',\n",
       " 'isnumeric',\n",
       " 'isprintable',\n",
       " 'isspace',\n",
       " 'istitle',\n",
       " 'isupper',\n",
       " 'join',\n",
       " 'ljust',\n",
       " 'lower',\n",
       " 'lstrip',\n",
       " 'maketrans',\n",
       " 'partition',\n",
       " 'removeprefix',\n",
       " 'removesuffix',\n",
       " 'replace',\n",
       " 'rfind',\n",
       " 'rindex',\n",
       " 'rjust',\n",
       " 'rpartition',\n",
       " 'rsplit',\n",
       " 'rstrip',\n",
       " 'split',\n",
       " 'splitlines',\n",
       " 'startswith',\n",
       " 'strip',\n",
       " 'swapcase',\n",
       " 'title',\n",
       " 'translate',\n",
       " 'upper',\n",
       " 'zfill']"
      ]
     },
     "execution_count": 291,
     "metadata": {},
     "output_type": "execute_result"
    }
   ],
   "source": [
    "dir(\"\")"
   ]
  },
  {
   "cell_type": "markdown",
   "metadata": {},
   "source": [
    "# Code Reuse"
   ]
  },
  {
   "cell_type": "markdown",
   "metadata": {},
   "source": [
    "Let’s put what we learned about code reuse all together. \n",
    "<br><br>\n",
    "First, let’s look back at **inheritance**. Run the following cell that defines a generic `Animal` class. "
   ]
  },
  {
   "cell_type": "code",
   "execution_count": 292,
   "metadata": {},
   "outputs": [],
   "source": [
    "class Animal:\n",
    "    name = \"\"\n",
    "    category = \"\"\n",
    "    \n",
    "    def __init__(self, name):\n",
    "        self.name = name\n",
    "    \n",
    "    def set_category(self, category):\n",
    "        self.category = category"
   ]
  },
  {
   "cell_type": "markdown",
   "metadata": {},
   "source": [
    "What we have is not enough to do much -- yet. That’s where you come in. \n",
    "<br><br>\n",
    "In the next cell, define a `Turtle` class that inherits from the `Animal` class. Then go ahead and set its category. For instance, a turtle is generally considered a reptile. Although modern cladistics call this categorization into question, for purposes of this exercise we will say turtles are reptiles! "
   ]
  },
  {
   "cell_type": "code",
   "execution_count": 293,
   "metadata": {},
   "outputs": [],
   "source": [
    "class Turtle(Animal):\n",
    "    name = \"Turtle\"\n",
    "    category = \"reptile\""
   ]
  },
  {
   "cell_type": "markdown",
   "metadata": {},
   "source": [
    "Run the following cell to check whether you correctly defined your `Turtle` class and set its category to reptile."
   ]
  },
  {
   "cell_type": "code",
   "execution_count": 294,
   "metadata": {},
   "outputs": [
    {
     "name": "stdout",
     "output_type": "stream",
     "text": [
      "reptile\n"
     ]
    }
   ],
   "source": [
    "print(Turtle.category)"
   ]
  },
  {
   "cell_type": "markdown",
   "metadata": {},
   "source": [
    "Was the output of the above cell reptile? If not, go back and edit your `Turtle` class making sure that it inherits from the `Animal` class and its category is properly set to reptile. Be sure to re-run that cell once you've finished your edits. Did you get it? If so, great!"
   ]
  },
  {
   "cell_type": "markdown",
   "metadata": {},
   "source": [
    "Next, let’s practice **composition** a little bit. This one will require a second type of `Animal` that is in the same category as the first. For example, since you already created a `Turtle` class, go ahead and create a `Snake` class. Don’t forget that it also inherits from the `Animal` class and that its category should be set to reptile."
   ]
  },
  {
   "cell_type": "code",
   "execution_count": 295,
   "metadata": {},
   "outputs": [],
   "source": [
    "class Snake(Animal):\n",
    "    name = \"Snake\"\n",
    "    category = \"reptile\""
   ]
  },
  {
   "cell_type": "markdown",
   "metadata": {},
   "source": [
    "Now, let’s say we have a large variety of `Animal`s (such as turtles and snakes) in a Zoo. Below we have the `Zoo` class. We’re going to use it to organize our various `Animal`s. Remember, inheritance says a Turtle is an `Animal`, but a `Zoo` is not an `Animal` and an `Animal` is not a `Zoo` -- though they are related to one another. "
   ]
  },
  {
   "cell_type": "markdown",
   "metadata": {},
   "source": [
    "Fill in the blanks of the `Zoo` class below so that you can use **zoo.add_animal( )** to add instances of the `Animal` subclasses you created above. Once you’ve added them all, you should be able to use **zoo.total_of_category( )** to tell you exactly how many individual `Animal` types the `Zoo` has for each category! Be sure to run the cell once you've finished your edits."
   ]
  },
  {
   "cell_type": "code",
   "execution_count": 296,
   "metadata": {},
   "outputs": [],
   "source": [
    "class Zoo:\n",
    "    def __init__(self):\n",
    "        self.current_animals = {}\n",
    "    \n",
    "    def add_animal(self, animal):\n",
    "        self.current_animals[animal.name] = animal.category\n",
    "    \n",
    "    def total_of_category(self, category):\n",
    "        result = 0\n",
    "        for animal in self.current_animals.keys():\n",
    "            if self.current_animals[animal] == category:\n",
    "                result += 1\n",
    "        return (result)\n",
    "\n",
    "zoo = Zoo()"
   ]
  },
  {
   "cell_type": "markdown",
   "metadata": {},
   "source": [
    "Run the following cell to check whether you properly filled in the blanks of your `Zoo` class."
   ]
  },
  {
   "cell_type": "code",
   "execution_count": 297,
   "metadata": {},
   "outputs": [
    {
     "name": "stdout",
     "output_type": "stream",
     "text": [
      "{'Turtle': 'reptile', 'Snake': 'reptile'}\n",
      "2\n"
     ]
    }
   ],
   "source": [
    "turtle = Turtle(\"Turtle\") #create an instance of the Turtle class\n",
    "snake = Snake(\"Snake\") #create an instance of the Snake class\n",
    "zoo.add_animal(turtle)\n",
    "zoo.add_animal(snake)\n",
    "print(zoo.current_animals)\n",
    "\n",
    "print(zoo.total_of_category(\"reptile\")) #how many zoo animal types in the reptile category"
   ]
  },
  {
   "cell_type": "markdown",
   "metadata": {},
   "source": [
    "Was the output of the above cell 2? If not, go back and edit the `Zoo` class making sure to fill in the blanks with the appropriate attributes. Be sure to re-run that cell once you've finished your edits.  \n",
    "<br>\n",
    "Did you get it? If so, perfect! You have successfully defined your `Turtle` and `Snake` subclasses as well as your `Zoo` class.  You are all done with this notebook. Great work!"
   ]
  },
  {
   "cell_type": "markdown",
   "metadata": {},
   "source": [
    "# Assessment - Object-oriented programming"
   ]
  },
  {
   "cell_type": "markdown",
   "metadata": {},
   "source": [
    "In this exercise, we'll create a few classes to simulate a server that's taking connections from the outside and then a load balancer that ensures that there are enough servers to serve those connections. \n",
    "<br><br>\n",
    "To represent the servers that are taking care of the connections, we'll use a Server class. Each connection is represented by an id, that could, for example, be the IP address of the computer connecting to the server.  For our simulation, each connection creates a random amount of load in the server, between 1 and 10.\n",
    "<br><br>\n",
    "Run the following code that defines this Server class."
   ]
  },
  {
   "cell_type": "code",
   "execution_count": 298,
   "metadata": {},
   "outputs": [],
   "source": [
    "#Begin Portion 1#\n",
    "import random\n",
    "\n",
    "class Server:\n",
    "    def __init__(self):\n",
    "        \"\"\"Creates a new server instance, with no active connections.\"\"\"\n",
    "        self.connections = {}\n",
    "\n",
    "    def add_connection(self, connection_id):\n",
    "        \"\"\"Adds a new connection to this server.\"\"\"\n",
    "        connection_load = (random.random()*10) + 1\n",
    "        # Add the connection to the dictionary with the calculated load\n",
    "        self.connections[connection_id] = connection_load\n",
    "    def close_connection(self, connection_id):\n",
    "        \"\"\"Closes a connection on this server.\"\"\"\n",
    "        # Remove the connection from the dictionary\n",
    "        del self.connections[connection_id]\n",
    "    def load(self):\n",
    "        \"\"\"Calculates the current load for all connections.\"\"\"\n",
    "        total = len(self.connections)\n",
    "        # Add up the load for each of the connections\n",
    "        return total\n",
    "\n",
    "    def __str__(self):\n",
    "        \"\"\"Returns a string with the current load of the server\"\"\"\n",
    "        return \"{:.2f}%\".format(self.load())\n",
    "    \n",
    "#End Portion 1#"
   ]
  },
  {
   "cell_type": "markdown",
   "metadata": {},
   "source": [
    "Now run the following cell to create a Server instance and add a connection to it, then check the load:"
   ]
  },
  {
   "cell_type": "code",
   "execution_count": 299,
   "metadata": {},
   "outputs": [
    {
     "name": "stdout",
     "output_type": "stream",
     "text": [
      "1\n"
     ]
    }
   ],
   "source": [
    "server = Server()\n",
    "server.add_connection(\"192.168.1.1\")\n",
    "\n",
    "print(server.load())"
   ]
  },
  {
   "cell_type": "markdown",
   "metadata": {},
   "source": [
    "After running the above code cell, if you get a **<font color =red>NameError</font>** message, be sure to run the Server class definition code block first.\n",
    "\n",
    "The output should be 0.  This is because some things are missing from the Server class. So, you'll need to go back and fill in the blanks to make it behave properly. \n",
    "<br><br>\n",
    "Go back to the Server class definition and fill in the missing parts for the `add_connection` and `load` methods to make the cell above print a number different than zero.  As the load is calculated randomly, this number should be different each time the code is executed.\n",
    "<br><br>\n",
    "**Hint:** Recall that you can iterate through the values of your connections dictionary just as you would any sequence."
   ]
  },
  {
   "cell_type": "markdown",
   "metadata": {},
   "source": [
    "Great! If your output is a random number between 1 and 10, you have successfully coded the `add_connection` and `load` methods of the Server class.  Well done!\n",
    "<br><br>\n",
    "What about closing a connection? Right now the `close_connection` method doesn't do anything. Go back to the Server class definition and fill in the missing code for the `close_connection` method to make the following code work correctly:"
   ]
  },
  {
   "cell_type": "code",
   "execution_count": 300,
   "metadata": {},
   "outputs": [
    {
     "name": "stdout",
     "output_type": "stream",
     "text": [
      "0\n"
     ]
    }
   ],
   "source": [
    "server.close_connection(\"192.168.1.1\")\n",
    "print(server.load())"
   ]
  },
  {
   "cell_type": "markdown",
   "metadata": {},
   "source": [
    "You have successfully coded the `close_connection` method if the cell above prints 0.\n",
    "<br><br>\n",
    "**Hint:** Remember that `del` dictionary[key] removes the item with key *key* from the dictionary."
   ]
  },
  {
   "cell_type": "markdown",
   "metadata": {},
   "source": [
    "Alright, we now have a basic implementation of the server class. Let's look at the basic LoadBalancing class. This class will start with only one server available. When a connection gets added, it will randomly select a server to serve that connection, and then pass on the connection to the server. The LoadBalancing class also needs to keep track of the ongoing connections to be able to close them. This is the basic structure:"
   ]
  },
  {
   "cell_type": "code",
   "execution_count": 301,
   "metadata": {},
   "outputs": [],
   "source": [
    "#Begin Portion 2#\n",
    "class LoadBalancing:\n",
    "    def __init__(self):\n",
    "        \"\"\"Initialize the load balancing system with one server\"\"\"\n",
    "        self.connections = {}\n",
    "        self.servers = [Server()]\n",
    "\n",
    "    def add_connection(self, connection_id):\n",
    "        \"\"\"Randomly selects a server and adds a connection to it.\"\"\"\n",
    "        server = random.choice(self.servers)\n",
    "        # Add the connection to the dictionary with the selected server\n",
    "        # Add the connection to the server\n",
    "        server.add_connection(connection_id)\n",
    "        self.ensure_availability()\n",
    "\n",
    "    def close_connection(self, connection_id):\n",
    "        \"\"\"Closes the connection on the the server corresponding to connection_id.\"\"\"\n",
    "        # Find out the right server\n",
    "        # Close the connection on the server\n",
    "        # Remove the connection from the load balancer\n",
    "        for server in self.servers:\n",
    "            if connection_id in server.connections:\n",
    "                server.close_connection(connection_id)\n",
    "                break\n",
    "           \n",
    "    def avg_load(self):\n",
    "        \"\"\"Calculates the average load of all servers\"\"\"\n",
    "        # Sum the load of each server and divide by the amount of servers\n",
    "        total_load = 0\n",
    "        total_server = 0\n",
    "        for server in self.servers:\n",
    "            total_load += server.load()\n",
    "            total_server += 1\n",
    "        return total_load/total_server\n",
    "\n",
    "    def ensure_availability(self):\n",
    "        \"\"\"If the average load is higher than 50, spin up a new server\"\"\"\n",
    "        if self.avg_load() > 50:\n",
    "            self.servers.append(Server())\n",
    "\n",
    "    def __str__(self):\n",
    "        \"\"\"Returns a string with the load for each server.\"\"\"\n",
    "        loads = [str(server) for server in self.servers]\n",
    "        return \"[{}]\".format(\",\".join(loads))\n",
    "#End Portion 2#"
   ]
  },
  {
   "cell_type": "markdown",
   "metadata": {},
   "source": [
    "As with the Server class, this class is currently incomplete. You need to fill in the gaps to make it work correctly. For example, this snippet should create a connection in the load balancer, assign it to a running server and then the load should be more than zero:"
   ]
  },
  {
   "cell_type": "code",
   "execution_count": 302,
   "metadata": {},
   "outputs": [
    {
     "name": "stdout",
     "output_type": "stream",
     "text": [
      "1.0\n"
     ]
    }
   ],
   "source": [
    "l = LoadBalancing()\n",
    "l.add_connection(\"fdca:83d2::f20d\")\n",
    "print(l.avg_load())\n"
   ]
  },
  {
   "cell_type": "markdown",
   "metadata": {},
   "source": [
    "After running the above code, the output is 0.  Fill in the missing parts for the `add_connection` and `avg_load` methods of the LoadBalancing class to make this print the right load. Be sure that the load balancer now has an average load more than 0 before proceeding."
   ]
  },
  {
   "cell_type": "markdown",
   "metadata": {},
   "source": [
    "What if we add a new server?"
   ]
  },
  {
   "cell_type": "code",
   "execution_count": 303,
   "metadata": {},
   "outputs": [
    {
     "name": "stdout",
     "output_type": "stream",
     "text": [
      "0.5\n"
     ]
    }
   ],
   "source": [
    "l.servers.append(Server())\n",
    "print(l.avg_load())\n"
   ]
  },
  {
   "cell_type": "markdown",
   "metadata": {},
   "source": [
    "The average load should now be half of what it was before. If it's not, make sure you correctly fill in the missing gaps for the `add_connection` and `avg_load` methods so that this code works correctly. \n",
    "<br><br>\n",
    "**Hint:** You can iterate through the all servers in the *self.servers* list to get the total server load amount and then divide by the length of the *self.servers* list to compute the average load amount."
   ]
  },
  {
   "cell_type": "markdown",
   "metadata": {},
   "source": [
    "Fantastic! Now what about closing the connection?"
   ]
  },
  {
   "cell_type": "code",
   "execution_count": 304,
   "metadata": {},
   "outputs": [
    {
     "name": "stdout",
     "output_type": "stream",
     "text": [
      "0.0\n"
     ]
    }
   ],
   "source": [
    "l.close_connection(\"fdca:83d2::f20d\")\n",
    "print(l.avg_load())\n"
   ]
  },
  {
   "cell_type": "markdown",
   "metadata": {},
   "source": [
    "Fill in the code of the LoadBalancing class to make the load go back to zero once the connection is closed.\n",
    "<br><br>\n",
    "Great job! Before, we added a server manually. But we want this to happen automatically when the average load is more than 50%. To make this possible, fill in the missing code for the `ensure_availability` method and call it from the `add_connection` method after a connection has been added. You can test it with the following code:"
   ]
  },
  {
   "cell_type": "code",
   "execution_count": 305,
   "metadata": {},
   "outputs": [
    {
     "name": "stdout",
     "output_type": "stream",
     "text": [
      "[11.00%,9.00%]\n"
     ]
    }
   ],
   "source": [
    "for connection in range(20):\n",
    "    l.add_connection(connection)\n",
    "print(l)\n"
   ]
  },
  {
   "cell_type": "markdown",
   "metadata": {},
   "source": [
    "The code above adds 20 new connections and then prints the loads for each server in the load balancer.  If you coded correctly, new servers should have been added automatically to ensure that the average load of all servers is not more than 50%.\n",
    "<br><br>\n",
    "Run the following code to verify that the average load of the load balancer is not more than 50%."
   ]
  },
  {
   "cell_type": "code",
   "execution_count": 306,
   "metadata": {},
   "outputs": [
    {
     "name": "stdout",
     "output_type": "stream",
     "text": [
      "10.0\n"
     ]
    }
   ],
   "source": [
    "print(l.avg_load())\n"
   ]
  },
  {
   "cell_type": "markdown",
   "metadata": {},
   "source": [
    "Awesome! If the average load is indeed less than 50%, you are all done with this assessment."
   ]
  }
 ],
 "metadata": {
  "kernelspec": {
   "display_name": "Python 3",
   "language": "python",
   "name": "python3"
  },
  "language_info": {
   "codemirror_mode": {
    "name": "ipython",
    "version": 3
   },
   "file_extension": ".py",
   "mimetype": "text/x-python",
   "name": "python",
   "nbconvert_exporter": "python",
   "pygments_lexer": "ipython3",
   "version": "3.10.0"
  },
  "orig_nbformat": 4
 },
 "nbformat": 4,
 "nbformat_minor": 2
}
